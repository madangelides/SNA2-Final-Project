{
  "nbformat": 4,
  "nbformat_minor": 0,
  "metadata": {
    "colab": {
      "provenance": [],
      "include_colab_link": true
    },
    "kernelspec": {
      "name": "python3",
      "display_name": "Python 3"
    },
    "language_info": {
      "name": "python"
    }
  },
  "cells": [
    {
      "cell_type": "markdown",
      "metadata": {
        "id": "view-in-github",
        "colab_type": "text"
      },
      "source": [
        "<a href=\"https://colab.research.google.com/github/madangelides/SNA2-Final-Project/blob/main/SNA_Final_Project.ipynb\" target=\"_parent\"><img src=\"https://colab.research.google.com/assets/colab-badge.svg\" alt=\"Open In Colab\"/></a>"
      ]
    },
    {
      "cell_type": "code",
      "source": [
        "%pip install pyvis"
      ],
      "metadata": {
        "id": "BlF5M1fUjEE0"
      },
      "execution_count": null,
      "outputs": []
    },
    {
      "cell_type": "code",
      "execution_count": null,
      "metadata": {
        "id": "s3qRqfcBqdTs"
      },
      "outputs": [],
      "source": [
        "import networkx as nx\n",
        "import matplotlib.pyplot as plt\n",
        "import numpy as np\n",
        "import copy"
      ]
    },
    {
      "cell_type": "markdown",
      "source": [
        "To begin: loading in the three different friendship networks in NetworkX format. These three different networks represent the same group of 50 students at 3 different time periods."
      ],
      "metadata": {
        "id": "ua-9AyOhuHW7"
      }
    },
    {
      "cell_type": "markdown",
      "source": [
        "1) Load in Network for time period 1 (start of observation period), relabel nodes as strings. \"G1labeled\" is the final network used in the visualization."
      ],
      "metadata": {
        "id": "suX9X073FnKf"
      }
    },
    {
      "cell_type": "code",
      "source": [
        "lines = open('/content/s50-network1.dat').readlines()"
      ],
      "metadata": {
        "id": "djwf-mN7q1hX"
      },
      "execution_count": null,
      "outputs": []
    },
    {
      "cell_type": "code",
      "source": [
        "G1 = nx.empty_graph(len(lines), create_using=nx.DiGraph)\n",
        "edges_list=[]\n",
        "for i,line in enumerate(lines):\n",
        "  for neigh,value in enumerate(line[1:-1].split(' ')):\n",
        "    if value=='1':\n",
        "      edges_list.append((i,neigh))\n",
        "    #|print(i,neigh,value)"
      ],
      "metadata": {
        "id": "H25imPitry8F"
      },
      "execution_count": null,
      "outputs": []
    },
    {
      "cell_type": "code",
      "source": [
        "G1.add_edges_from(edges_list)"
      ],
      "metadata": {
        "id": "rHtCjR5krz5E"
      },
      "execution_count": null,
      "outputs": []
    },
    {
      "cell_type": "code",
      "source": [
        "mapping1 = {0: \"0\", 1: \"1\", 2: \"2\", 3: \"3\", 4: \"4\", 5: \"5\", 6: \"6\", 7: \"7\", 8: \n",
        "            \"8\", 9: \"9\", 10: \"10\", 11: \"11\", 12: \"12\", 13: \"13\", 14: \"14\", 15: \n",
        "            \"15\", 16: \"16\", 17: \"17\", 18: \"18\", 19: \"19\", 20: \"20\", 21: \"21\", \n",
        "            22: \"22\", 23: \"23\", 24: \"24\", 25: \"25\", 26: \"26\", 27: \"27\", 28: \"28\",\n",
        "            29: \"29\", 30: \"30\", 31: \"31\", 32: \"32\", 33: \"33\", 34: \"34\", 35: \"35\",\n",
        "            36: \"36\", 37: \"37\", 38: \"38\", 39: \"39\", 40: \"40\", 41: \"41\", 42: \"42\",\n",
        "            43: \"43\", 44: \"44\", 45: \"45\", 46: \"46\", 47: \"47\", 48: \"48\", 49: \"49\"}\n",
        "G1labeled = nx.relabel_nodes(G1, mapping1)\n",
        "G1labeled.nodes()"
      ],
      "metadata": {
        "colab": {
          "base_uri": "https://localhost:8080/"
        },
        "id": "bKIwiBec-htY",
        "outputId": "d2b236b5-5417-4c4e-e125-415199177689"
      },
      "execution_count": null,
      "outputs": [
        {
          "output_type": "execute_result",
          "data": {
            "text/plain": [
              "NodeView(('0', '1', '2', '3', '4', '5', '6', '7', '8', '9', '10', '11', '12', '13', '14', '15', '16', '17', '18', '19', '20', '21', '22', '23', '24', '25', '26', '27', '28', '29', '30', '31', '32', '33', '34', '35', '36', '37', '38', '39', '40', '41', '42', '43', '44', '45', '46', '47', '48', '49'))"
            ]
          },
          "metadata": {},
          "execution_count": 6
        }
      ]
    },
    {
      "cell_type": "markdown",
      "source": [
        "G2 is the second network i need to load in, repeating steps"
      ],
      "metadata": {
        "id": "aE2ZbzY24Tf_"
      }
    },
    {
      "cell_type": "code",
      "source": [
        "lines2 = open('/content/s50-network2.dat').readlines()"
      ],
      "metadata": {
        "id": "RTd4rXlltRPS"
      },
      "execution_count": null,
      "outputs": []
    },
    {
      "cell_type": "code",
      "source": [
        "G2 = nx.empty_graph(len(lines2), create_using=nx.DiGraph)\n",
        "edges_list=[]\n",
        "for i,line in enumerate(lines2):\n",
        "  for neigh,value in enumerate(line[1:-1].split(' ')):\n",
        "    if value=='1':\n",
        "      edges_list.append((i,neigh))\n",
        "    #|print(i,neigh,value)"
      ],
      "metadata": {
        "id": "-Kci5Vg9tv2c"
      },
      "execution_count": null,
      "outputs": []
    },
    {
      "cell_type": "code",
      "source": [
        "G2.add_edges_from(edges_list)"
      ],
      "metadata": {
        "id": "BCMpQdEBt0i6"
      },
      "execution_count": null,
      "outputs": []
    },
    {
      "cell_type": "code",
      "source": [
        "mapping2 = {0: \"0\", 1: \"1\", 2: \"2\", 3: \"3\", 4: \"4\", 5: \"5\", 6: \"6\", 7: \"7\", 8: \n",
        "            \"8\", 9: \"9\", 10: \"10\", 11: \"11\", 12: \"12\", 13: \"13\", 14: \"14\", 15: \n",
        "            \"15\", 16: \"16\", 17: \"17\", 18: \"18\", 19: \"19\", 20: \"20\", 21: \"21\", \n",
        "            22: \"22\", 23: \"23\", 24: \"24\", 25: \"25\", 26: \"26\", 27: \"27\", 28: \"28\",\n",
        "            29: \"29\", 30: \"30\", 31: \"31\", 32: \"32\", 33: \"33\", 34: \"34\", 35: \"35\",\n",
        "            36: \"36\", 37: \"37\", 38: \"38\", 39: \"39\", 40: \"40\", 41: \"41\", 42: \"42\",\n",
        "            43: \"43\", 44: \"44\", 45: \"45\", 46: \"46\", 47: \"47\", 48: \"48\", 49: \"49\"}\n",
        "G2labeled = nx.relabel_nodes(G2, mapping2)\n",
        "G2labeled.nodes()"
      ],
      "metadata": {
        "id": "YMr9sAP4t63n",
        "colab": {
          "base_uri": "https://localhost:8080/"
        },
        "outputId": "a1a7675e-f325-4cf0-9afa-a4f02e3aaf4f"
      },
      "execution_count": null,
      "outputs": [
        {
          "output_type": "execute_result",
          "data": {
            "text/plain": [
              "NodeView(('0', '1', '2', '3', '4', '5', '6', '7', '8', '9', '10', '11', '12', '13', '14', '15', '16', '17', '18', '19', '20', '21', '22', '23', '24', '25', '26', '27', '28', '29', '30', '31', '32', '33', '34', '35', '36', '37', '38', '39', '40', '41', '42', '43', '44', '45', '46', '47', '48', '49'))"
            ]
          },
          "metadata": {},
          "execution_count": 10
        }
      ]
    },
    {
      "cell_type": "markdown",
      "source": [
        "Same story below with the third network "
      ],
      "metadata": {
        "id": "NfGEIsWC4XRt"
      }
    },
    {
      "cell_type": "code",
      "source": [
        "lines3 = open('/content/s50-network3.dat').readlines()"
      ],
      "metadata": {
        "id": "cwBojGuluFaF"
      },
      "execution_count": null,
      "outputs": []
    },
    {
      "cell_type": "code",
      "source": [
        "G3 = nx.empty_graph(len(lines3), create_using=nx.DiGraph)\n",
        "edges_list=[]\n",
        "for i,line in enumerate(lines3):\n",
        "  for neigh,value in enumerate(line[1:-1].split(' ')):\n",
        "    if value=='1':\n",
        "      edges_list.append((i,neigh))\n",
        "    #|print(i,neigh,value)"
      ],
      "metadata": {
        "id": "j_gT86OQuT73"
      },
      "execution_count": null,
      "outputs": []
    },
    {
      "cell_type": "code",
      "source": [
        "G3.add_edges_from(edges_list)"
      ],
      "metadata": {
        "id": "k745k9QRuT0L"
      },
      "execution_count": null,
      "outputs": []
    },
    {
      "cell_type": "code",
      "source": [
        "mapping3 = {0: \"0\", 1: \"1\", 2: \"2\", 3: \"3\", 4: \"4\", 5: \"5\", 6: \"6\", 7: \"7\", 8: \n",
        "            \"8\", 9: \"9\", 10: \"10\", 11: \"11\", 12: \"12\", 13: \"13\", 14: \"14\", 15: \n",
        "            \"15\", 16: \"16\", 17: \"17\", 18: \"18\", 19: \"19\", 20: \"20\", 21: \"21\", \n",
        "            22: \"22\", 23: \"23\", 24: \"24\", 25: \"25\", 26: \"26\", 27: \"27\", 28: \"28\",\n",
        "            29: \"29\", 30: \"30\", 31: \"31\", 32: \"32\", 33: \"33\", 34: \"34\", 35: \"35\",\n",
        "            36: \"36\", 37: \"37\", 38: \"38\", 39: \"39\", 40: \"40\", 41: \"41\", 42: \"42\",\n",
        "            43: \"43\", 44: \"44\", 45: \"45\", 46: \"46\", 47: \"47\", 48: \"48\", 49: \"49\"}\n",
        "G3labeled = nx.relabel_nodes(G3, mapping3)\n",
        "G3labeled.nodes()"
      ],
      "metadata": {
        "colab": {
          "base_uri": "https://localhost:8080/"
        },
        "id": "vpkbfwPAuTs_",
        "outputId": "ce00eb9c-8f16-4852-8646-bc0237cf5452"
      },
      "execution_count": null,
      "outputs": [
        {
          "output_type": "execute_result",
          "data": {
            "text/plain": [
              "NodeView(('0', '1', '2', '3', '4', '5', '6', '7', '8', '9', '10', '11', '12', '13', '14', '15', '16', '17', '18', '19', '20', '21', '22', '23', '24', '25', '26', '27', '28', '29', '30', '31', '32', '33', '34', '35', '36', '37', '38', '39', '40', '41', '42', '43', '44', '45', '46', '47', '48', '49'))"
            ]
          },
          "metadata": {},
          "execution_count": 14
        }
      ]
    },
    {
      "cell_type": "markdown",
      "source": [
        "Now, creating visuals of these network graphs. Defining a function that allows for the networks to be visualized in easy-to-read graphs."
      ],
      "metadata": {
        "id": "txH_R_3MvAQk"
      }
    },
    {
      "cell_type": "code",
      "source": [
        "#nx.draw(G1, with_labels = True)"
      ],
      "metadata": {
        "id": "WdvYpEuhv_QZ"
      },
      "execution_count": null,
      "outputs": []
    },
    {
      "cell_type": "code",
      "source": [
        "def plot_graph(G1labeled):\n",
        "  from pyvis.network import Network\n",
        "  from IPython.display import display, HTML\n",
        "  net = Network(notebook=True, cdn_resources='remote')\n",
        "  net.from_nx(G1labeled, show_edge_weights=True)\n",
        "  net.toggle_physics(True)\n",
        "  net.show('network.html')\n",
        "  return display(HTML('network.html'))"
      ],
      "metadata": {
        "id": "NaDaEyUI0Bdv"
      },
      "execution_count": null,
      "outputs": []
    },
    {
      "cell_type": "code",
      "source": [
        "def plot_graph(G2labeled):\n",
        "  from pyvis.network import Network\n",
        "  from IPython.display import display, HTML\n",
        "  net = Network(notebook=True, cdn_resources='remote')\n",
        "  net.from_nx(G2labeled, show_edge_weights=True)\n",
        "  net.toggle_physics(True)\n",
        "  net.show('network.html')\n",
        "  return display(HTML('network.html'))"
      ],
      "metadata": {
        "id": "hR1YSU9qGDvh"
      },
      "execution_count": null,
      "outputs": []
    },
    {
      "cell_type": "code",
      "source": [
        "def plot_graph(G3labeled):\n",
        "  from pyvis.network import Network\n",
        "  from IPython.display import display, HTML\n",
        "  net = Network(notebook=True, cdn_resources='remote')\n",
        "  net.from_nx(G3labeled, show_edge_weights=True)\n",
        "  net.toggle_physics(True)\n",
        "  net.show('network.html')\n",
        "  return display(HTML('network.html'))"
      ],
      "metadata": {
        "id": "jlSO-rSsGD8M"
      },
      "execution_count": null,
      "outputs": []
    },
    {
      "cell_type": "markdown",
      "source": [
        "Calling on each of the network graphs individually to display them visually."
      ],
      "metadata": {
        "id": "1f_m1Ch_n8dH"
      }
    },
    {
      "cell_type": "code",
      "source": [
        "network1graph = plot_graph(G1labeled)\n",
        "network1graph"
      ],
      "metadata": {
        "id": "HmspWMsalRvE"
      },
      "execution_count": null,
      "outputs": []
    },
    {
      "cell_type": "code",
      "source": [
        "network2graph = plot_graph(G2labeled)\n",
        "network2graph"
      ],
      "metadata": {
        "id": "U8swUXpVDxh8"
      },
      "execution_count": null,
      "outputs": []
    },
    {
      "cell_type": "code",
      "source": [
        "network3graph = plot_graph(G3labeled)\n",
        "network3graph"
      ],
      "metadata": {
        "id": "cDxSKMcQG_yq"
      },
      "execution_count": null,
      "outputs": []
    },
    {
      "cell_type": "markdown",
      "source": [
        "Now computing some centrality measures\n"
      ],
      "metadata": {
        "id": "eweVGw1VIymD"
      }
    },
    {
      "cell_type": "code",
      "source": [
        "scoresnet1 = nx.degree_centrality(G1labeled)\n",
        "scoresnet1_sorted=dict(sorted(scoresnet1.items(), key=lambda item: item[1],reverse=True))\n",
        "scoresnet1_sorted"
      ],
      "metadata": {
        "id": "ZEfnoop1I2ro"
      },
      "execution_count": null,
      "outputs": []
    },
    {
      "cell_type": "markdown",
      "source": [
        "10 most central nodes in N1: 10, 21, 6, 23, 29, 30, 31, 16, 18, 45\n",
        "... 5 least central: 38, 46, 12, 19, 49"
      ],
      "metadata": {
        "id": "g3EyMRrKKMGr"
      }
    },
    {
      "cell_type": "code",
      "source": [
        "scoresnet2 = nx.degree_centrality(G2labeled)\n",
        "scoresnet2_sorted=dict(sorted(scoresnet2.items(), key=lambda item: item[1],reverse=True))\n",
        "scoresnet2_sorted"
      ],
      "metadata": {
        "id": "nV4rmR-sJWHn"
      },
      "execution_count": null,
      "outputs": []
    },
    {
      "cell_type": "markdown",
      "source": [
        "10 most central nodes in N2: 16, 29, 45, 9, 18, 25, 10, 35, 36, 39 ... 5 least central: 1, 17, 49, 12, 19"
      ],
      "metadata": {
        "id": "9ZtTJ-yOKvky"
      }
    },
    {
      "cell_type": "code",
      "source": [
        "scoresnet3 = nx.degree_centrality(G3labeled)\n",
        "scoresnet3_sorted=dict(sorted(scoresnet3.items(), key=lambda item: item[1],reverse=True))\n",
        "scoresnet3_sorted"
      ],
      "metadata": {
        "id": "875Kf8N4JWSt"
      },
      "execution_count": null,
      "outputs": []
    },
    {
      "cell_type": "markdown",
      "source": [
        "10 most central nodes in N3: 32, 9, 10, 14, 35, 39, 45, 6, 29, 0 ... 5 least central: 8, 21, 12, 17, 19"
      ],
      "metadata": {
        "id": "DOJe43OnK7PP"
      }
    }
  ]
}